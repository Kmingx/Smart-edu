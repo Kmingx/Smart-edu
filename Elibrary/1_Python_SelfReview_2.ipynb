{
  "cells": [
    {
      "cell_type": "markdown",
      "metadata": {
        "id": "lzBeltwUbEKr"
      },
      "source": [
        "**Q1. 피연산자 2개를 먼저 입력받고 메뉴에 있는 연산자를 선택하여 사칙연산을 하는 프로그램을 작성해 보세요.**\n",
        "\n",
        "```\n",
        "[실행결과]\n",
        "피연산자 1 >> 34 [Enter]\n",
        "피연산자 2 >> 12 [Enter] \n",
        "1. + \n",
        "2. - \n",
        "3. * \n",
        "4. / \n",
        "연산자를 선택하세요 >> 2  [Enter]\n",
        "34 - 12 = 22\n",
        "```\n",
        "\n"
      ]
    },
    {
      "cell_type": "code",
      "execution_count": 1,
      "metadata": {},
      "outputs": [
        {
          "name": "stdout",
          "output_type": "stream",
          "text": [
            "34 - 12 = 22\n"
          ]
        }
      ],
      "source": [
        "num1 = int(input())\n",
        "num2 = int(input())\n",
        "\n",
        "num3 = int(input())\n",
        "\n",
        "if num3 == 1:\n",
        "    print(\"{} + {} = {}\".format(num1,num2,num1+num2))\n",
        "elif num3 == 2:\n",
        "    print(\"{} - {} = {}\".format(num1,num2,num1-num2))\n",
        "elif num3 == 3:\n",
        "    print(\"{} * {} = {}\".format(num1,num2,num1*num2))\n",
        "elif num3 == 4:\n",
        "    print(\"{} / {} = {}\".format(num1,num2,num1/num2))\n"
      ]
    },
    {
      "cell_type": "markdown",
      "metadata": {
        "id": "mUB86Uf9kMXh"
      },
      "source": [
        "**Q2. 4명의 후보가 있는 총학생회장 투표를 하는데, 하나의 투표함에 대해 각 후보별 투표 인원을 출력해 보세요.**<br>\n",
        "* box = [1,2,3,2,3,1,2,2,4,3,5,0,3,2,1]\n",
        "* 1~4 번 투표가 아니면 무효로 카운트하지 않는다.\n",
        "\n",
        "[실행결과]<br>\n",
        "1번 후보는 00표<br>\n",
        "2번 후보는 00표<br>\n",
        "3번 후보는 00표<br>\n",
        "4번 후보는 00표<br>"
      ]
    },
    {
      "cell_type": "code",
      "execution_count": 31,
      "metadata": {},
      "outputs": [
        {
          "name": "stdout",
          "output_type": "stream",
          "text": [
            "1번 후보는 3 표\n",
            "2번 후보는 5 표\n",
            "3번 후보는 4 표\n",
            "4번 후보는 1 표\n"
          ]
        }
      ],
      "source": [
        "box = [1,2,3,2,3,1,2,2,4,3,5,0,3,2,1]\n",
        "\n",
        "candidatesList =[0,0,0,0]\n",
        "for i in box:\n",
        "    if i == 1:\n",
        "        candidatesList[0] +=1\n",
        "    elif i ==2:\n",
        "        candidatesList[1] +=1\n",
        "    elif i ==3:\n",
        "        candidatesList[2] +=1\n",
        "    elif i ==4:\n",
        "        candidatesList[3] +=1\n",
        "    else:\n",
        "        pass\n",
        "     \n",
        "\n",
        "for i in range(len(candidatesList)):\n",
        "    print(\"{}번 후보는 {}표\".format(i+1, candidatesList[i]))"
      ]
    },
    {
      "cell_type": "markdown",
      "metadata": {
        "id": "YBDc-Gj_nKkK"
      },
      "source": [
        "**Q3. 컴퓨터가 생성한 주사위 숫자와 사용자가 입력한 숫자를 비교하여 높은 숫자가 나오면 이기는 주사위게임을 작성해 보세요.**<br>\n",
        "* random 모듈 사용\n",
        "* 숫자 입력은 1~6 만 가능\n",
        "\n",
        "[실행결과]<br>\n",
        "숫자는? >> 10 [Enter]<br> \n",
        "숫자는? >> 5 [Enter]<br>\n",
        "Computer : 2 vs User : 5 ==> User 승리<br>\n",
        "재시작 : Enter, 종료 : 0 >> [Enter]<br>\n",
        "숫자는? >> 3 [Enter]<br>\n",
        "Computer : 5 vs User : 3 ==> Computer 승리<br>\n",
        "재시작 : Enter, 종료 : 0 >> 0 [Enter]<br>\n",
        "Bye~~"
      ]
    },
    {
      "cell_type": "markdown",
      "metadata": {
        "id": "x98uKXj-08jS"
      },
      "source": [
        "**Q4. 사용자로부터 숫자를 입력 받아 숫자만큼 그래프를 그려보세요. 단, 입력되는 숫자가 0이면 막대그래프 그리는 것을 멈춥니다.**<br>\n",
        "\n",
        "[실행결과]<br>\n",
        "Number >> 5 [Enter]<br>\n",
        "★★★★★<br>\n",
        "Number >> 10 [Enter]<br>\n",
        "★★★★★★★★★★<br>\n",
        "Number >> 7 [Enter]<br>\n",
        "★★★★★★★<br>\n",
        "Number >> 0 [Enter]<br>"
      ]
    },
    {
      "cell_type": "markdown",
      "metadata": {
        "id": "Ln5Z3_QHsi9B"
      },
      "source": [
        "**Q5. 정수를 입력 받아, 하트 기호를 출력한다.(단, 두 자리 이상의 정수는 자리수를 분리하여 하트 기호를 출력한다.)**<br>\n",
        "\n",
        "[실행결과]\n",
        "정수 입력>> 4578 [Enter]<br>\n",
        "♥♥♥♥<br>\n",
        "♥♥♥♥♥<br>\n",
        "♥♥♥♥♥♥♥<br>\n",
        "♥♥♥♥♥♥♥♥\n",
        "\n"
      ]
    },
    {
      "cell_type": "code",
      "execution_count": 38,
      "metadata": {},
      "outputs": [
        {
          "name": "stdout",
          "output_type": "stream",
          "text": [
            "['9', '8', '7', '5', '4', '6', '4']\n",
            "--------------\n",
            "♥♥♥♥♥♥♥♥♥\n",
            "♥♥♥♥♥♥♥♥\n",
            "♥♥♥♥♥♥♥\n",
            "♥♥♥♥♥\n",
            "♥♥♥♥\n",
            "♥♥♥♥♥♥\n",
            "♥♥♥♥\n"
          ]
        }
      ],
      "source": [
        "str = input()\n",
        "list(str)\n",
        "print(list(str))\n",
        "print(\"--------------\")\n",
        "for i in list(str):\n",
        "    print(\"♥\"*int(i))\n"
      ]
    },
    {
      "cell_type": "markdown",
      "metadata": {
        "id": "R1webqZjfDK_"
      },
      "source": [
        "**Q6. 타자 연습 게임 프로그램을 만들어 보세요.**<br>\n",
        " * word=[\"반짝이는\",\"별빛들\", \"깜빡이는\", \"불 켜진\", \"건물\", \"우린\", \"빛나고\", \"있네\", \"각자의 방\", \"각자의\", \"별에서\"]<br>\n",
        " * random 모듈 사용 <br>\n",
        "<br>\n",
        "\n",
        "[실행결과]<br >\n",
        "문제 1 ==> 별에서<br>\n",
        "단어 입력 >> 별에서 [Enter]<br>\n",
        "맞음!!<br>\n",
        "계속하시겠습니까?(계속: Enter, 종료:Q)>> [Enter]<br>\n",
        "<br>\n",
        "문제 2 ==> 빛나고<br>\n",
        "단어 입력 >> 빛나고 [Enter]<br>\n",
        "맞음!!<br>\n",
        "계속하시겠습니까?(계속: Enter, 종료:Q)>> [Enter]<br>\n",
        "<br>\n",
        "문제 3 ==> 건물<br>\n",
        "단어 입력 >> 건물<br>\n",
        "맞음!!<br>\n",
        "계속하시겠습니까?(계속: Enter, 종료:Q)>> Q [Enter]<br>\n",
        "\n",
        "맞힌 문제 개수 : 3, 정답률 : 100.00%<br>\n",
        "Bye!!"
      ]
    },
    {
      "cell_type": "markdown",
      "metadata": {
        "id": "v5AZGLdF8G-k"
      },
      "source": [
        "**Q7. 구구단 게임을 컴퓨터와 하는 프로그램을 다음의 조건대로 작성해 보세요.**<br>\n",
        "* 컴퓨터가 임의의 구구단을 하나 생성한 후 이를 플레이어에게 정해진 시간 안에 맞히라고 한다.\n",
        "* 플레이어는 정해진 시간 안에 이를 맞히면 맞힌 개수로 인정하고 계산이 틀렸거나 시간이 초과하면 못맞힌 것으로 간주한다.\n",
        "* random, time 모듈 이용\n",
        "\n",
        "```\n",
        "[실행결과] \n",
        "몇번할까요? >> 3 [Enter]\n",
        "8 X 9 ?\n",
        ">> 72 [Enter] \n",
        "2.4 초만에 답을 했어요 \n",
        "맞았습니다\n",
        "\n",
        "9 X 6?\n",
        ">> 26 [Enter]\n",
        "2.9 초만에 답을 했어요\n",
        "다시 도전해 보세요\n",
        "\n",
        "4 X 4? \n",
        ">> 16 [Enter] \n",
        "4.0 초만에 답을 했어요\n",
        "다시 도전해 보세요\n",
        "\n",
        "3번중 1번 맞았어요\n",
        "```\n",
        "\n"
      ]
    },
    {
      "cell_type": "markdown",
      "metadata": {
        "id": "RLxkvBmWAyT-"
      },
      "source": [
        "# time 모듈 실습"
      ]
    },
    {
      "cell_type": "code",
      "execution_count": null,
      "metadata": {
        "id": "Gn6Kr1twAGgn"
      },
      "outputs": [],
      "source": [
        "import time\n",
        "\n",
        "starttime = time.time()\n",
        "product = int(input(\">> \"))\n",
        "endtime = time.time()\n",
        "\n",
        "print(\"{0:.2f} 초만에 답을 했어요.\".format(endtime-starttime))"
      ]
    },
    {
      "cell_type": "markdown",
      "metadata": {
        "id": "d41GATr3Zo-Q"
      },
      "source": [
        "**[실습 1] 문자열과 횟수를 매개변수로 전달받아 횟수만큼 문자열을 반복하여 출력하는 print_str()함수를 작성해보세요.**<br><br>\n",
        "[실행결과]<br>\n",
        "문자열>> 파이썬  [Enter]<br>\n",
        "횟수>> 3  [Enter]<br>\n",
        "파이썬<br>\n",
        "파이썬<br>\n",
        "파이썬"
      ]
    },
    {
      "cell_type": "code",
      "execution_count": 3,
      "metadata": {},
      "outputs": [
        {
          "name": "stdout",
          "output_type": "stream",
          "text": [
            "파이썬\n",
            "파이썬\n",
            "파이썬\n"
          ]
        }
      ],
      "source": [
        "def print_str(text, cnt):\n",
        "    for i in range(cnt):\n",
        "        print(text)\n",
        "\n",
        "text = str(input())\n",
        "cnt = int(input())\n",
        "print_str(text,cnt)"
      ]
    },
    {
      "cell_type": "markdown",
      "metadata": {
        "id": "-1Spi4u4Z4sv"
      },
      "source": [
        "**[실습2] 매개변수 action으로 0이 전달되면 섭씨에서 화씨로 변환하고, 매개변수 action으로 1이 전달되면 화씨에서 섭씨로 변환하는 fc(temper, action)함수를 작성해 보세요. 섭씨와 화씨온도를 각각 입력받아 함수를 호출하고 결과를 반환받아 다음과 같이 출력해보세요.**\n",
        "* fc( )함수에서 결과를 반환할 때 변환된 온도와 함께 변환 방식을 \"C2F\"나 \"F2C\" 문자열로 함께 반환\n",
        "* 섭씨에서 화씨로 변환하는 계산식 : F = C X 1.8 + 32\n",
        "* 화씨에서 섭씨로 변환하는 계산식 : C = (F-32) / 1.8\n",
        "```\n",
        "[실행결과]\n",
        "온도>> 30 [Enter]\n",
        "변환(0:C2F, 1:F2C)>> 0 [Enter]\n",
        "C2F : 30 ==> 86.0\n",
        "온도 >> 86 [Enter]\n",
        "변환(0:C2F, 1:F2C)>> 1 [Enter]\n",
        "F2C : 86 ===> 30.0\n",
        "```"
      ]
    },
    {
      "cell_type": "code",
      "execution_count": 10,
      "metadata": {},
      "outputs": [
        {
          "name": "stdout",
          "output_type": "stream",
          "text": [
            "C2F\n",
            "86.0\n",
            "['C2F', 86.0]\n"
          ]
        }
      ],
      "source": [
        "def fc(temperature,action):\n",
        "    if action == 0:\n",
        "        return [\"C2F\", (temperature * 1.8) + 32]\n",
        "    elif action == 1:\n",
        "        return [\"F2C\", (temperature - 32) / 1.8]\n",
        "    return temperature\n",
        "temperature = int(input())\n",
        "action = int(input())\n",
        "\n",
        "result = fc(temperature,action)\n",
        "print(result[0], \":\", temperature, \"=>\", result[1])"
      ]
    }
  ],
  "metadata": {
    "colab": {
      "collapsed_sections": [],
      "provenance": []
    },
    "kernelspec": {
      "display_name": "Python 3.9.12 ('env_py39')",
      "language": "python",
      "name": "python3"
    },
    "language_info": {
      "codemirror_mode": {
        "name": "ipython",
        "version": 3
      },
      "file_extension": ".py",
      "mimetype": "text/x-python",
      "name": "python",
      "nbconvert_exporter": "python",
      "pygments_lexer": "ipython3",
      "version": "3.9.12"
    },
    "vscode": {
      "interpreter": {
        "hash": "1b619ffeb1265820f11f06bafd2d28adef8fb614b6a29fedf6faeb3b7f2ceee9"
      }
    }
  },
  "nbformat": 4,
  "nbformat_minor": 0
}

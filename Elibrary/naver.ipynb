{
 "cells": [
  {
   "cell_type": "code",
   "execution_count": null,
   "metadata": {},
   "outputs": [],
   "source": [
    "import requests\n",
    "\n",
    "url = \"https://new.land.naver.com/api/complexes/single-markers/2.0?cortarNo=1168010300&zoom=16&priceType=RETAIL&markerId=19204&markerType=COMPLEX&selectedComplexNo&selectedComplexBuildingNo&fakeComplexMarker&realEstateType=APT&tradeType=&tag=%3A%3A%3A%3A%3A%3A%3A%3A&rentPriceMin=0&rentPriceMax=900000000&priceMin=0&priceMax=900000000&areaMin=0&areaMax=900000000&oldBuildYears&recentlyBuildYears&minHouseHoldCount&maxHouseHoldCount&showArticle=false&sameAddressGroup=false&minMaintenanceCost&maxMaintenanceCost&directions=&leftLon=127.0453756&rightLon=127.0814244&topLat=37.4906555&bottomLat=37.4752797\"\n",
    "\n",
    "payload={}\n",
    "headers = {}\n",
    "\n",
    "response = requests.request(\"GET\", url, headers=headers, data=payload)\n",
    "\n",
    "print(response.text)"
   ]
  },
  {
   "cell_type": "code",
   "execution_count": 15,
   "metadata": {},
   "outputs": [],
   "source": [
    "import json"
   ]
  },
  {
   "cell_type": "code",
   "execution_count": 31,
   "metadata": {},
   "outputs": [],
   "source": [
    "import json, pandas as pd\n",
    "\n",
    "a_json = open('response.json', encoding = 'utf-8')\n",
    "a_dict = json.load(a_json)\t#=> 파이썬 자료형(딕셔너리나 리스트)으로 반환"
   ]
  },
  {
   "cell_type": "code",
   "execution_count": 45,
   "metadata": {},
   "outputs": [],
   "source": [
    "from bs4 import BeautifulSoup\n",
    "import requests"
   ]
  },
  {
   "cell_type": "code",
   "execution_count": 46,
   "metadata": {},
   "outputs": [],
   "source": [
    "url = \"https://www.kamis.or.kr/customer/price/retail/catalogue.do?action=monthly&yyyy=2022&mm=01&countycode=1101&itemcategorycode=500&convert_kg_yn=N&convert_kg_yn=N\"\n",
    "response = requests.get(url)\n",
    "\n",
    "soup = BeautifulSoup(response.content,\"html.parser\")"
   ]
  },
  {
   "cell_type": "code",
   "execution_count": 108,
   "metadata": {},
   "outputs": [
    {
     "data": {
      "text/plain": [
       "'계란'"
      ]
     },
     "execution_count": 108,
     "metadata": {},
     "output_type": "execute_result"
    }
   ],
   "source": [
    "item = soup.select('table.wtable3 > tr > td')[131].get_text()\n",
    "price = soup.select('table.wtable3 > tr > td')[134].get_text().replace(',',\"\")\n",
    "previousPrice = soup.select('table.wtable3 > tr > td')[135].get_text().replace(',',\"\")\n",
    "fluctuationRate = soup.select('table.wtable3 > tr > td')[137].get_text()"
   ]
  },
  {
   "cell_type": "code",
   "execution_count": 190,
   "metadata": {},
   "outputs": [
    {
     "name": "stdout",
     "output_type": "stream",
     "text": [
      "1\n"
     ]
    },
    {
     "ename": "IndexError",
     "evalue": "list index out of range",
     "output_type": "error",
     "traceback": [
      "\u001b[1;31m---------------------------------------------------------------------------\u001b[0m",
      "\u001b[1;31mIndexError\u001b[0m                                Traceback (most recent call last)",
      "\u001b[1;32mc:\\log\\Smart-edu\\Elibrary\\naver.ipynb 셀 12\u001b[0m in \u001b[0;36m<cell line: 14>\u001b[1;34m()\u001b[0m\n\u001b[0;32m     <a href='vscode-notebook-cell:/c%3A/log/Smart-edu/Elibrary/naver.ipynb#X16sZmlsZQ%3D%3D?line=20'>21</a>\u001b[0m \u001b[39mwhile\u001b[39;00m \u001b[39mTrue\u001b[39;00m:\n\u001b[0;32m     <a href='vscode-notebook-cell:/c%3A/log/Smart-edu/Elibrary/naver.ipynb#X16sZmlsZQ%3D%3D?line=21'>22</a>\u001b[0m     \u001b[39mprint\u001b[39m(cnt)\n\u001b[1;32m---> <a href='vscode-notebook-cell:/c%3A/log/Smart-edu/Elibrary/naver.ipynb#X16sZmlsZQ%3D%3D?line=22'>23</a>\u001b[0m     item2 \u001b[39m=\u001b[39m soup\u001b[39m.\u001b[39;49mselect(\u001b[39m'\u001b[39;49m\u001b[39mtable.wtable3 > tr > td\u001b[39;49m\u001b[39m'\u001b[39;49m)[cnt]\u001b[39m.\u001b[39mget_text()\n\u001b[0;32m     <a href='vscode-notebook-cell:/c%3A/log/Smart-edu/Elibrary/naver.ipynb#X16sZmlsZQ%3D%3D?line=23'>24</a>\u001b[0m     cnt \u001b[39m+\u001b[39m\u001b[39m=\u001b[39m \u001b[39m1\u001b[39m\n\u001b[0;32m     <a href='vscode-notebook-cell:/c%3A/log/Smart-edu/Elibrary/naver.ipynb#X16sZmlsZQ%3D%3D?line=25'>26</a>\u001b[0m     \u001b[39mif\u001b[39;00m(item2 \u001b[39m==\u001b[39m \u001b[39m\"\u001b[39m\u001b[39m계란\u001b[39m\u001b[39m\"\u001b[39m):\n",
      "\u001b[1;31mIndexError\u001b[0m: list index out of range"
     ]
    }
   ],
   "source": [
    "item =[]\n",
    "price =[]\n",
    "price= []\n",
    "previousPrice = []\n",
    "year =[]\n",
    "month = []\n",
    "fluctuationRate = []\n",
    "cnt=1\n",
    "\n",
    "\n",
    "#itemTable_1 > tbody > tr:nth-child(20) > td:nth-child(4)\n",
    "#itemTable_1 > tbody > tr:nth-child(20) > td.first.cell_tit1\n",
    "#itemTable_1 > tbody > tr:nth-child(5) > td.first.cell_tit1\n",
    "for y in range(2000,2023,1):\n",
    "    for m in range(1,13):\n",
    "        url = \"https://www.kamis.or.kr/customer/price/retail/catalogue.do?action=monthly&yyyy={}&mm={}&countycode=&itemcategorycode=500&convert_kg_yn=N&convert_kg_yn=N\".format(y,m)\n",
    "        response = requests.get(url)\n",
    "\n",
    "        soup = BeautifulSoup(response.content,\"html.parser\")\n",
    "\n",
    "        while True:\n",
    "            print(cnt)\n",
    "            item2 = soup.select('table.wtable3 > tr > td')[cnt].get_text()\n",
    "            cnt += 1\n",
    "\n",
    "            if(item2 == \"계란\"):\n",
    "                item.append(item2)\n",
    "\n",
    "                price.append(soup.select('table.wtable3 > tr > td')[cnt+3].get_text().replace(',',\"\"))\n",
    "                previousPrice.append(soup.select('table.wtable3 > tr > td')[cnt+4].get_text().replace(',',\"\"))\n",
    "                fluctuationRate.append(soup.select('table.wtable3 > tr > td')[cnt+6].get_text())\n",
    "                year.append(\"{}년\".format(y))\n",
    "                month.append(\"{}월\".format(m))\n",
    "                break\n",
    "    print(y)\n",
    "  "
   ]
  },
  {
   "cell_type": "code",
   "execution_count": 193,
   "metadata": {},
   "outputs": [],
   "source": []
  },
  {
   "cell_type": "code",
   "execution_count": 194,
   "metadata": {},
   "outputs": [
    {
     "ename": "IndexError",
     "evalue": "list index out of range",
     "output_type": "error",
     "traceback": [
      "\u001b[1;31m---------------------------------------------------------------------------\u001b[0m",
      "\u001b[1;31mIndexError\u001b[0m                                Traceback (most recent call last)",
      "\u001b[1;32mc:\\log\\Smart-edu\\Elibrary\\naver.ipynb 셀 14\u001b[0m in \u001b[0;36m<cell line: 1>\u001b[1;34m()\u001b[0m\n\u001b[1;32m----> <a href='vscode-notebook-cell:/c%3A/log/Smart-edu/Elibrary/naver.ipynb#X23sZmlsZQ%3D%3D?line=0'>1</a>\u001b[0m item \u001b[39m=\u001b[39m soup\u001b[39m.\u001b[39;49mselect(\u001b[39m'\u001b[39;49m\u001b[39mtable.wtable3 > tr > td\u001b[39;49m\u001b[39m'\u001b[39;49m)[\u001b[39m131\u001b[39;49m]\u001b[39m.\u001b[39mget_text()\n\u001b[0;32m      <a href='vscode-notebook-cell:/c%3A/log/Smart-edu/Elibrary/naver.ipynb#X23sZmlsZQ%3D%3D?line=1'>2</a>\u001b[0m price \u001b[39m=\u001b[39m soup\u001b[39m.\u001b[39mselect(\u001b[39m'\u001b[39m\u001b[39mtable.wtable3 > tr > td\u001b[39m\u001b[39m'\u001b[39m)[\u001b[39m134\u001b[39m]\u001b[39m.\u001b[39mget_text()\u001b[39m.\u001b[39mreplace(\u001b[39m'\u001b[39m\u001b[39m,\u001b[39m\u001b[39m'\u001b[39m,\u001b[39m\"\u001b[39m\u001b[39m\"\u001b[39m)\n\u001b[0;32m      <a href='vscode-notebook-cell:/c%3A/log/Smart-edu/Elibrary/naver.ipynb#X23sZmlsZQ%3D%3D?line=2'>3</a>\u001b[0m previousPrice \u001b[39m=\u001b[39m soup\u001b[39m.\u001b[39mselect(\u001b[39m'\u001b[39m\u001b[39mtable.wtable3 > tr > td\u001b[39m\u001b[39m'\u001b[39m)[\u001b[39m135\u001b[39m]\u001b[39m.\u001b[39mget_text()\u001b[39m.\u001b[39mreplace(\u001b[39m'\u001b[39m\u001b[39m,\u001b[39m\u001b[39m'\u001b[39m,\u001b[39m\"\u001b[39m\u001b[39m\"\u001b[39m)\n",
      "\u001b[1;31mIndexError\u001b[0m: list index out of range"
     ]
    }
   ],
   "source": [
    "\n",
    "\n",
    "\n",
    "item = soup.select('table.wtable3 > tr > td')[131].get_text()\n",
    "price = soup.select('table.wtable3 > tr > td')[134].get_text().replace(',',\"\")\n",
    "previousPrice = soup.select('table.wtable3 > tr > td')[135].get_text().replace(',',\"\")\n",
    "fluctuationRate = soup.select('table.wtable3 > tr > td')[137].get_text()"
   ]
  },
  {
   "cell_type": "code",
   "execution_count": 195,
   "metadata": {},
   "outputs": [
    {
     "data": {
      "text/plain": [
       "['계란']"
      ]
     },
     "execution_count": 195,
     "metadata": {},
     "output_type": "execute_result"
    }
   ],
   "source": [
    "item"
   ]
  },
  {
   "cell_type": "code",
   "execution_count": 236,
   "metadata": {},
   "outputs": [
    {
     "name": "stdout",
     "output_type": "stream",
     "text": [
      "2000\n",
      "2001\n",
      "2002\n",
      "2003\n",
      "2004\n",
      "2005\n",
      "2006\n",
      "2007\n",
      "2008\n",
      "2009\n",
      "2010\n",
      "2011\n",
      "2012\n",
      "2013\n",
      "2014\n",
      "2015\n",
      "2016\n",
      "2017\n",
      "2018\n",
      "2019\n",
      "2020\n",
      "2021\n",
      "2022\n"
     ]
    }
   ],
   "source": [
    "monthLis =['01','02','03','04','05','06','07','08','09','10','11','12']\n",
    "\n",
    "item =[]\n",
    "price =[]\n",
    "previousPrice = []\n",
    "year =[]\n",
    "month = []\n",
    "fluctuationRate = []\n",
    "cnt = 1\n",
    "\n",
    "for y in range(2000,2023,1):\n",
    "    print(y)\n",
    "    for m in monthLis:\n",
    "        url = \"https://www.kamis.or.kr/customer/price/retail/catalogue.do?action=monthly&yyyy={}&mm={}&countycode=&itemcategorycode=500&convert_kg_yn=N&convert_kg_yn=N\".format(y,m)\n",
    "        response = requests.get(url)\n",
    "\n",
    "        soup = BeautifulSoup(response.content,\"html.parser\")\n",
    "\n",
    "        try:\n",
    "            while True:\n",
    "                item2 = soup.select('table.wtable3 > tr > td')[cnt].get_text()\n",
    "                cnt += 1\n",
    "\n",
    "\n",
    "                if(item2 == \"계란\"):\n",
    "                    item.append(item2)\n",
    "\n",
    "                    price.append(soup.select('table.wtable3 > tr > td')[cnt+2].get_text().replace(',',\"\"))\n",
    "                    previousPrice.append(soup.select('table.wtable3 > tr > td')[cnt+3].get_text().replace(',',\"\"))\n",
    "                    fluctuationRate.append(soup.select('table.wtable3 > tr > td')[cnt+5].get_text())\n",
    "                    year.append(\"{}년\".format(y))\n",
    "                    month.append(\"{}월\".format(m))\n",
    "                    cnt=0\n",
    "                    break\n",
    "        except:\n",
    "            pass"
   ]
  },
  {
   "cell_type": "code",
   "execution_count": 237,
   "metadata": {},
   "outputs": [],
   "source": [
    "df = pd.DataFrame([ x for x in zip(item,price,previousPrice,year,month,fluctuationRate)])"
   ]
  },
  {
   "cell_type": "code",
   "execution_count": 239,
   "metadata": {},
   "outputs": [],
   "source": [
    "df.to_excel(\"계란값비교.xlsx\")"
   ]
  },
  {
   "cell_type": "code",
   "execution_count": 245,
   "metadata": {},
   "outputs": [
    {
     "data": {
      "text/html": [
       "<div>\n",
       "<style scoped>\n",
       "    .dataframe tbody tr th:only-of-type {\n",
       "        vertical-align: middle;\n",
       "    }\n",
       "\n",
       "    .dataframe tbody tr th {\n",
       "        vertical-align: top;\n",
       "    }\n",
       "\n",
       "    .dataframe thead th {\n",
       "        text-align: right;\n",
       "    }\n",
       "</style>\n",
       "<table border=\"1\" class=\"dataframe\">\n",
       "  <thead>\n",
       "    <tr style=\"text-align: right;\">\n",
       "      <th></th>\n",
       "      <th>품목</th>\n",
       "      <th>월평균</th>\n",
       "      <th>전원평균</th>\n",
       "      <th>년</th>\n",
       "      <th>월</th>\n",
       "      <th>등락률</th>\n",
       "    </tr>\n",
       "  </thead>\n",
       "  <tbody>\n",
       "    <tr>\n",
       "      <th>0</th>\n",
       "      <td>계란</td>\n",
       "      <td>2680</td>\n",
       "      <td>2551</td>\n",
       "      <td>2000년</td>\n",
       "      <td>01월</td>\n",
       "      <td>5.1</td>\n",
       "    </tr>\n",
       "    <tr>\n",
       "      <th>1</th>\n",
       "      <td>계란</td>\n",
       "      <td>2732</td>\n",
       "      <td>2680</td>\n",
       "      <td>2000년</td>\n",
       "      <td>02월</td>\n",
       "      <td>1.9</td>\n",
       "    </tr>\n",
       "    <tr>\n",
       "      <th>2</th>\n",
       "      <td>계란</td>\n",
       "      <td>2539</td>\n",
       "      <td>2732</td>\n",
       "      <td>2000년</td>\n",
       "      <td>03월</td>\n",
       "      <td>-7.1</td>\n",
       "    </tr>\n",
       "    <tr>\n",
       "      <th>3</th>\n",
       "      <td>계란</td>\n",
       "      <td>2225</td>\n",
       "      <td>2539</td>\n",
       "      <td>2000년</td>\n",
       "      <td>04월</td>\n",
       "      <td>-12.4</td>\n",
       "    </tr>\n",
       "    <tr>\n",
       "      <th>4</th>\n",
       "      <td>계란</td>\n",
       "      <td>2252</td>\n",
       "      <td>2225</td>\n",
       "      <td>2000년</td>\n",
       "      <td>05월</td>\n",
       "      <td>1.2</td>\n",
       "    </tr>\n",
       "    <tr>\n",
       "      <th>...</th>\n",
       "      <td>...</td>\n",
       "      <td>...</td>\n",
       "      <td>...</td>\n",
       "      <td>...</td>\n",
       "      <td>...</td>\n",
       "      <td>...</td>\n",
       "    </tr>\n",
       "    <tr>\n",
       "      <th>263</th>\n",
       "      <td>계란</td>\n",
       "      <td>6256</td>\n",
       "      <td>5983</td>\n",
       "      <td>2021년</td>\n",
       "      <td>12월</td>\n",
       "      <td>4.6</td>\n",
       "    </tr>\n",
       "    <tr>\n",
       "      <th>264</th>\n",
       "      <td>계란</td>\n",
       "      <td>6255</td>\n",
       "      <td>6256</td>\n",
       "      <td>2022년</td>\n",
       "      <td>01월</td>\n",
       "      <td>-0.0</td>\n",
       "    </tr>\n",
       "    <tr>\n",
       "      <th>265</th>\n",
       "      <td>계란</td>\n",
       "      <td>6182</td>\n",
       "      <td>6255</td>\n",
       "      <td>2022년</td>\n",
       "      <td>02월</td>\n",
       "      <td>-1.2</td>\n",
       "    </tr>\n",
       "    <tr>\n",
       "      <th>266</th>\n",
       "      <td>계란</td>\n",
       "      <td>6420</td>\n",
       "      <td>6182</td>\n",
       "      <td>2022년</td>\n",
       "      <td>03월</td>\n",
       "      <td>3.9</td>\n",
       "    </tr>\n",
       "    <tr>\n",
       "      <th>267</th>\n",
       "      <td>계란</td>\n",
       "      <td>6639</td>\n",
       "      <td>6420</td>\n",
       "      <td>2022년</td>\n",
       "      <td>04월</td>\n",
       "      <td>3.4</td>\n",
       "    </tr>\n",
       "  </tbody>\n",
       "</table>\n",
       "<p>268 rows × 6 columns</p>\n",
       "</div>"
      ],
      "text/plain": [
       "     품목   월평균  전원평균      년    월    등락률\n",
       "0    계란  2680  2551  2000년  01월    5.1\n",
       "1    계란  2732  2680  2000년  02월    1.9\n",
       "2    계란  2539  2732  2000년  03월   -7.1\n",
       "3    계란  2225  2539  2000년  04월  -12.4\n",
       "4    계란  2252  2225  2000년  05월    1.2\n",
       "..   ..   ...   ...    ...  ...    ...\n",
       "263  계란  6256  5983  2021년  12월    4.6\n",
       "264  계란  6255  6256  2022년  01월   -0.0\n",
       "265  계란  6182  6255  2022년  02월   -1.2\n",
       "266  계란  6420  6182  2022년  03월    3.9\n",
       "267  계란  6639  6420  2022년  04월    3.4\n",
       "\n",
       "[268 rows x 6 columns]"
      ]
     },
     "execution_count": 245,
     "metadata": {},
     "output_type": "execute_result"
    }
   ],
   "source": [
    "df.columns = ['품목','월평균','전원평균','년','월','등락률']\n",
    "df"
   ]
  },
  {
   "cell_type": "code",
   "execution_count": 252,
   "metadata": {},
   "outputs": [],
   "source": [
    "egg2020 = df[df[\"년\"] == \"2020년\"]"
   ]
  },
  {
   "cell_type": "code",
   "execution_count": 255,
   "metadata": {},
   "outputs": [
    {
     "ename": "ModuleNotFoundError",
     "evalue": "No module named 'seaborn'",
     "output_type": "error",
     "traceback": [
      "\u001b[1;31m---------------------------------------------------------------------------\u001b[0m",
      "\u001b[1;31mModuleNotFoundError\u001b[0m                       Traceback (most recent call last)",
      "\u001b[1;32mc:\\log\\Smart-edu\\Elibrary\\naver.ipynb 셀 16\u001b[0m in \u001b[0;36m<cell line: 4>\u001b[1;34m()\u001b[0m\n\u001b[0;32m      <a href='vscode-notebook-cell:/c%3A/log/Smart-edu/Elibrary/naver.ipynb#X41sZmlsZQ%3D%3D?line=1'>2</a>\u001b[0m \u001b[39mimport\u001b[39;00m \u001b[39mmatplotlib\u001b[39;00m\u001b[39m.\u001b[39;00m\u001b[39mfont_manager\u001b[39;00m \u001b[39mas\u001b[39;00m \u001b[39mfm\u001b[39;00m\n\u001b[0;32m      <a href='vscode-notebook-cell:/c%3A/log/Smart-edu/Elibrary/naver.ipynb#X41sZmlsZQ%3D%3D?line=2'>3</a>\u001b[0m \u001b[39mimport\u001b[39;00m \u001b[39mmatplotlib\u001b[39;00m\u001b[39m.\u001b[39;00m\u001b[39mpyplot\u001b[39;00m \u001b[39mas\u001b[39;00m \u001b[39mplt\u001b[39;00m\n\u001b[1;32m----> <a href='vscode-notebook-cell:/c%3A/log/Smart-edu/Elibrary/naver.ipynb#X41sZmlsZQ%3D%3D?line=3'>4</a>\u001b[0m \u001b[39mimport\u001b[39;00m \u001b[39mseaborn\u001b[39;00m \u001b[39mas\u001b[39;00m \u001b[39msns\u001b[39;00m\n\u001b[0;32m      <a href='vscode-notebook-cell:/c%3A/log/Smart-edu/Elibrary/naver.ipynb#X41sZmlsZQ%3D%3D?line=6'>7</a>\u001b[0m font_name \u001b[39m=\u001b[39m fm\u001b[39m.\u001b[39mFontProperties(fname\u001b[39m=\u001b[39m\u001b[39m\"\u001b[39m\u001b[39mC:/Windows/Fonts/malgun.ttf\u001b[39m\u001b[39m\"\u001b[39m)\u001b[39m.\u001b[39mget_name()\n\u001b[0;32m      <a href='vscode-notebook-cell:/c%3A/log/Smart-edu/Elibrary/naver.ipynb#X41sZmlsZQ%3D%3D?line=7'>8</a>\u001b[0m plt\u001b[39m.\u001b[39mrc(\u001b[39m'\u001b[39m\u001b[39mfont\u001b[39m\u001b[39m'\u001b[39m, family\u001b[39m=\u001b[39mfont_name)\n",
      "\u001b[1;31mModuleNotFoundError\u001b[0m: No module named 'seaborn'"
     ]
    }
   ],
   "source": [
    "import matplotlib as mpl\n",
    "import matplotlib.font_manager as fm\n",
    "import matplotlib.pyplot as plt\n",
    "import seaborn as sns\n",
    "import warnings\n",
    "\n",
    "font_name = fm.FontProperties(fname=\"C:/Windows/Fonts/malgun.ttf\").get_name()\n",
    "plt.rc('font', family=font_name)\n",
    "\n",
    "warnings.filterwarnings(action='ignore')\n",
    "# seaborn 의 set 기능을 통해 폰트 설정\n",
    "# \"Malgun Gothic\"\n",
    "\n",
    "plt.figure(figsize=(15,10)) # size\n",
    "plt.title('BMW 모델 별 누적판매량 순위', size= 20)\n",
    "plt.grid(True) #눈금\n",
    "plt.rotation=45\n",
    "plt.barplot(x=\"월\", y=\"월평균\", data=egg2020)"
   ]
  },
  {
   "cell_type": "code",
   "execution_count": null,
   "metadata": {},
   "outputs": [],
   "source": [
    "!pip install seaborn\n"
   ]
  }
 ],
 "metadata": {
  "kernelspec": {
   "display_name": "Python 3.9.12 ('env_py39')",
   "language": "python",
   "name": "python3"
  },
  "language_info": {
   "codemirror_mode": {
    "name": "ipython",
    "version": 3
   },
   "file_extension": ".py",
   "mimetype": "text/x-python",
   "name": "python",
   "nbconvert_exporter": "python",
   "pygments_lexer": "ipython3",
   "version": "3.9.12"
  },
  "orig_nbformat": 4,
  "vscode": {
   "interpreter": {
    "hash": "1b619ffeb1265820f11f06bafd2d28adef8fb614b6a29fedf6faeb3b7f2ceee9"
   }
  }
 },
 "nbformat": 4,
 "nbformat_minor": 2
}
